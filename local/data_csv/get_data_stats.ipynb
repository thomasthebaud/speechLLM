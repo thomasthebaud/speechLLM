{
 "cells": [
  {
   "cell_type": "code",
   "execution_count": 2,
   "metadata": {},
   "outputs": [],
   "source": [
    "import pandas as pd\n",
    "import os\n",
    "import numpy as np"
   ]
  },
  {
   "cell_type": "code",
   "execution_count": 4,
   "metadata": {},
   "outputs": [
    {
     "name": "stdout",
     "output_type": "stream",
     "text": [
      "librispeech_train-clean-100.csv\t(28539, 10)\t12.688852684046392\t100.59087965277777\n",
      "librispeech_dev-clean.csv\t(2703, 10)\t7.175775342212356\t5.387811319444444\n",
      "librispeech_test-clean.csv\t(2620, 10)\t7.4246109255725194\t5.403466840277778\n",
      "iemocap_ses01.csv\t(942, 12)\t4.578794585987262\t1.1981179166666667\n",
      "iemocap_ses02.csv\t(813, 12)\t4.69639188191882\t1.0606018333333334\n",
      "iemocap_ses03.csv\t(1000, 12)\t4.3132861\t1.1981350277777778\n",
      "iemocap_ses04.csv\t(793, 12)\t4.515200882723834\t0.9945984166666667\n",
      "iemocap_ses05.csv\t(942, 12)\t4.4144656050955415\t1.1551185\n",
      "voxceleb1_dev.csv\t(148642, 10)\t8.244136718592323\t340.39582503472224\n",
      "voxceleb1_test.csv\t(4874, 10)\t8.275597994460401\t11.20424017361111\n"
     ]
    },
    {
     "name": "stderr",
     "output_type": "stream",
     "text": [
      "/tmp/ipykernel_927563/3938196357.py:8: DtypeWarning: Columns (2,7,9) have mixed types. Specify dtype option on import or set low_memory=False.\n",
      "  df = pd.read_csv('../../data/'+f)\n"
     ]
    },
    {
     "name": "stdout",
     "output_type": "stream",
     "text": [
      "train.csv\t(427318, 12)\t7.55015568531515\t896.199285315972\n",
      "dev.csv\t(16598, 12)\t7.1044997017712985\t32.75569056944445\n",
      "test.csv\t(20114, 12)\t6.860400034180173\t38.330579524305556\n",
      "CV-EN_train.csv\t(126712, 12)\t5.51901566741903\t194.2570870138889\n",
      "CV-EN_test.csv\t(1314, 12)\t5.726940639269406\t2.090333333333333\n",
      "CV-EN_dev.csv\t(2036, 12)\t5.901948919449901\t3.3378799999999997\n",
      "MSP_Podcast_Test.csv\t(7651, 10)\t5.942521614821592\t12.629509131944445\n",
      "MSP_Podcast_Train.csv\t(13748, 10)\t6.180861884455921\t23.604024774305557\n",
      "MSP_Podcast_Validation.csv\t(3479, 10)\t6.191347172319633\t5.983249114583334\n",
      "voxceleb2_enriched_test.csv\t(2713, 10)\t7.759853137670476\t5.8479115451388894\n",
      "voxceleb2_enriched_dev.csv\t(106922, 10)\t7.8750922226015225\t233.89461406249998\n",
      "switchboard_train.csv\t(637, 12)\t384.48723057299844\t68.03287940972223\n",
      "switchboard_val.csv\t(160, 12)\t386.05503515624997\t17.158001562499997\n",
      "switchboard_test.csv\t(200, 12)\t402.19271812499994\t22.34403989583333\n",
      "iemocap_ses01-03.csv\t(2755, 12)\t4.517124210526316\t3.4568547777777785\n",
      "librispeech_train-clean-360.csv\t(104014, 12)\t12.584653895749609\t363.6056084201389\n",
      "librispeech_train-other-500.csv\t(148688, 12)\t12.029810591221215\t496.8579103298611\n",
      "librispeech_test-other.csv\t(2939, 12)\t6.542895585233072\t5.341547256944444\n",
      "librispeech_dev-other.csv\t(2864, 12)\t6.437243496857541\t5.121184826388888\n",
      "crema-d_train.csv\t(3364, 12)\t2.5531990004458978\t2.385822621527778\n",
      "crema-d_dev.csv\t(505, 12)\t2.420137252475248\t0.3394914756944445\n",
      "crema-d_test.csv\t(2207, 12)\t2.5052871828273675\t1.5358802256944444\n",
      "WSJ0_train.csv\t(12773, 13)\t7.020281599859079\t24.908349131944448\n",
      "WSJ0_dev.csv\t(1206, 13)\t6.692445999170812\t2.241969409722222\n",
      "WSJ0_eval.csv\t(651, 13)\t8.204167242703534\t1.4835869097222223\n"
     ]
    }
   ],
   "source": [
    "for f in os.listdir('../../data/'):\n",
    "    if 'xs' not in f and '_sw' not in f:\n",
    "        df = pd.read_csv('../../data/'+f)\n",
    "        print(f\"{f}\\t{df.shape}\\t{np.mean(df['audio_len'])}\\t{np.sum(df['audio_len'])/3600}\")"
   ]
  },
  {
   "cell_type": "code",
   "execution_count": 5,
   "metadata": {},
   "outputs": [
    {
     "name": "stdout",
     "output_type": "stream",
     "text": [
      "{'us', 'australia', 'scotland', 'newzealand', 'malaysia', 'southatlandtic', 'african', 'canada', 'ireland', 'bermuda', 'england', 'singapore', 'philippines', 'hongkong', 'indian'}\n"
     ]
    }
   ],
   "source": [
    "df = pd.read_csv('../../data/CV-EN_test.csv')\n",
    "print(set(df['accent']))"
   ]
  },
  {
   "cell_type": "code",
   "execution_count": null,
   "metadata": {},
   "outputs": [],
   "source": []
  }
 ],
 "metadata": {
  "kernelspec": {
   "display_name": "Python 3.8.18 ('red_b12')",
   "language": "python",
   "name": "python3"
  },
  "language_info": {
   "codemirror_mode": {
    "name": "ipython",
    "version": 3
   },
   "file_extension": ".py",
   "mimetype": "text/x-python",
   "name": "python",
   "nbconvert_exporter": "python",
   "pygments_lexer": "ipython3",
   "version": "3.8.18"
  },
  "orig_nbformat": 4,
  "vscode": {
   "interpreter": {
    "hash": "da84330c6533170a1c2222fc0202838e75940246bc660730498d3f7b60698500"
   }
  }
 },
 "nbformat": 4,
 "nbformat_minor": 2
}
